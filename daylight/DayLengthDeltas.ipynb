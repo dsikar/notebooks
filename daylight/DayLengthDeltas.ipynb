{
 "cells": [
  {
   "cell_type": "code",
   "execution_count": 1,
   "metadata": {},
   "outputs": [],
   "source": [
    "from datetime import datetime\n",
    "filename = str(datetime.today().strftime('%Y%m%d%M%S'))\n",
    "filename += '_BlackBox.log'\n",
    "\n"
   ]
  },
  {
   "cell_type": "code",
   "execution_count": 16,
   "metadata": {},
   "outputs": [
    {
     "name": "stdout",
     "output_type": "stream",
     "text": [
      "2022-01-31 08:37:02.475482\n",
      "2020-05-17 23:23:22 2020-05-17 23:23:24\n",
      "-1 day, 23:59:58\n"
     ]
    }
   ],
   "source": [
    "import datetime\n",
    "\n",
    "x = datetime.datetime.now()\n",
    "print(x) \n",
    "\n",
    "x = datetime.datetime(2020, 5, 17, 23, 23, 22)\n",
    "y = datetime.datetime(2020, 5, 17, 23, 23, 24)\n",
    "print(x, y) \n",
    "print(x - y)"
   ]
  },
  {
   "cell_type": "code",
   "execution_count": 56,
   "metadata": {},
   "outputs": [
    {
     "name": "stdout",
     "output_type": "stream",
     "text": [
      "2021-12-30,07:58:08,0\n",
      "2021-12-31,07:59:07,-66.0\n"
     ]
    }
   ],
   "source": [
    "import time\n",
    "x = datetime.datetime(2021, 12, 30)\n",
    "datestr = str(x)\n",
    "nextdate = datestr.split(' ')[0]\n",
    "# london lat long\n",
    "nextdur = light_data(51.509865, -0.118092, nextdate)\n",
    "print(\"{},{},{}\".format(nextdate,nextdur,0))\n",
    "\n",
    "x += datetime.timedelta(days=1)\n",
    "datestr = str(x)\n",
    "nextdate = datestr.split(' ')[0]\n",
    "nextdur = light_data(51.509865, -0.118092, nextdate)\n",
    "\n",
    "diff = length_diff(prevdur, nextdur)\n",
    "print(\"{},{},{}\".format(nextdate,nextdur,diff))\n"
   ]
  },
  {
   "cell_type": "code",
   "execution_count": 52,
   "metadata": {
    "scrolled": true
   },
   "outputs": [
    {
     "name": "stdout",
     "output_type": "stream",
     "text": [
      "2022-01-21,08:40:55,0\n",
      "2022-01-02,08:01:25,72.0\n"
     ]
    },
    {
     "ename": "KeyboardInterrupt",
     "evalue": "",
     "output_type": "error",
     "traceback": [
      "\u001b[0;31m---------------------------------------------------------------------------\u001b[0m",
      "\u001b[0;31mKeyboardInterrupt\u001b[0m                         Traceback (most recent call last)",
      "\u001b[0;32m/tmp/ipykernel_3916/1169114412.py\u001b[0m in \u001b[0;36m<module>\u001b[0;34m\u001b[0m\n\u001b[1;32m     17\u001b[0m     \u001b[0mprint\u001b[0m\u001b[0;34m(\u001b[0m\u001b[0;34m\"{},{},{}\"\u001b[0m\u001b[0;34m.\u001b[0m\u001b[0mformat\u001b[0m\u001b[0;34m(\u001b[0m\u001b[0mnextdate\u001b[0m\u001b[0;34m,\u001b[0m\u001b[0mnextdur\u001b[0m\u001b[0;34m,\u001b[0m\u001b[0mdiff\u001b[0m\u001b[0;34m)\u001b[0m\u001b[0;34m)\u001b[0m\u001b[0;34m\u001b[0m\u001b[0;34m\u001b[0m\u001b[0m\n\u001b[1;32m     18\u001b[0m     \u001b[0mprev_dur\u001b[0m \u001b[0;34m=\u001b[0m \u001b[0mnextdur\u001b[0m\u001b[0;34m\u001b[0m\u001b[0;34m\u001b[0m\u001b[0m\n\u001b[0;32m---> 19\u001b[0;31m     \u001b[0mtime\u001b[0m\u001b[0;34m.\u001b[0m\u001b[0msleep\u001b[0m\u001b[0;34m(\u001b[0m\u001b[0;36m5\u001b[0m\u001b[0;34m)\u001b[0m \u001b[0;31m# give api a rest\u001b[0m\u001b[0;34m\u001b[0m\u001b[0;34m\u001b[0m\u001b[0m\n\u001b[0m\u001b[1;32m     20\u001b[0m \u001b[0;31m# STOPPED HERE\u001b[0m\u001b[0;34m\u001b[0m\u001b[0;34m\u001b[0m\u001b[0;34m\u001b[0m\u001b[0m\n\u001b[1;32m     21\u001b[0m \u001b[0;31m# TODO\u001b[0m\u001b[0;34m\u001b[0m\u001b[0;34m\u001b[0m\u001b[0;34m\u001b[0m\u001b[0m\n",
      "\u001b[0;31mKeyboardInterrupt\u001b[0m: "
     ]
    }
   ],
   "source": [
    "import time\n",
    "x = datetime.datetime(2021, 12, 30)\n",
    "datestr = str(x)\n",
    "nextdate = datestr.split(' ')[0]\n",
    "# london lat long\n",
    "prevdur = light_data(51.509865, -0.118092, nextdate)\n",
    "print(\"{},{},{}\".format(nextdate,nextdur,0))\n",
    "\n",
    "while x.year < 2023:\n",
    "    x += datetime.timedelta(days=1)\n",
    "    datestr = str(x)\n",
    "    nextdate = datestr.split(' ')[0]\n",
    "    nextdur = light_data(51.509865, -0.118092, nextdate)\n",
    "    #print(nextdur)\n",
    "    diff = length_diff(prevdur, nextdur)\n",
    "    #print(diff)\n",
    "    print(\"{},{},{}\".format(nextdate,nextdur,diff))\n",
    "    prev_dur = nextdur\n",
    "    time.sleep(5) # give api a rest\n",
    "# STOPPED HERE\n",
    "# TODO\n",
    "# 1. make request"
   ]
  },
  {
   "cell_type": "code",
   "execution_count": 57,
   "metadata": {},
   "outputs": [
    {
     "name": "stdout",
     "output_type": "stream",
     "text": [
      "4.0\n"
     ]
    }
   ],
   "source": [
    "def length_diff(prevdur, nextdur):\n",
    "    \"\"\"\n",
    "    Get difference between two day lengths\n",
    "    Argument\n",
    "        prevdur: string, previous day duration, HH:MM:SS\n",
    "        nextdur: string, next day duration, HH:MM:SS\n",
    "    output\n",
    "        Flat, Difference of length of daylight from one day to the next\n",
    "    Example\n",
    "        prevdur = '10:01:01'\n",
    "        nextdur = '10:01:05'\n",
    "        lengthdiff = length_diff(prevdur, nextdur)\n",
    "        print(lengthdiff)\n",
    "        4.0\n",
    "    \"\"\"\n",
    "    import datetime\n",
    "    time1 = prevdur.split(':')\n",
    "    time2 = nextdur.split(':')\n",
    "    # year, month and day are the same, just to compute time difference\n",
    "    x = datetime.datetime(2020, 5, 17, int(time1[0]), int(time1[1]), int(time1[2]))\n",
    "    y = datetime.datetime(2020, 5, 17, int(time2[0]), int(time2[1]), int(time2[2]))  \n",
    "    diff = y - x\n",
    "    return diff.total_seconds()\n",
    "\n",
    "prevdur = '10:01:01'\n",
    "nextdur = '10:01:05'\n",
    "lengthdiff = length_diff(prevdur, nextdur)\n",
    "print(lengthdiff)"
   ]
  },
  {
   "cell_type": "code",
   "execution_count": 26,
   "metadata": {},
   "outputs": [
    {
     "name": "stdout",
     "output_type": "stream",
     "text": [
      "2022-01-01 00:00:00\n"
     ]
    },
    {
     "data": {
      "text/plain": [
       "'2022-01-01'"
      ]
     },
     "execution_count": 26,
     "metadata": {},
     "output_type": "execute_result"
    }
   ],
   "source": [
    "#print(str(x))\n",
    "datestr = str(x)\n",
    "datestr.split(' ')[0]"
   ]
  },
  {
   "cell_type": "code",
   "execution_count": 28,
   "metadata": {},
   "outputs": [
    {
     "name": "stdout",
     "output_type": "stream",
     "text": [
      "08:00:13\n"
     ]
    }
   ],
   "source": [
    "def light_data(lat, lon, date):\n",
    "    \"\"\"\n",
    "    Get day duration data for given ate, latitude and longitude\n",
    "    Arguments\n",
    "        lat: float, -90 =< x =< 90\n",
    "        lon: float, -180 =< x =< 180\n",
    "        date: string, yyyy-mm-dd\n",
    "    Returns\n",
    "        info: string, amount of daylight\n",
    "    Example\n",
    "        # london today\n",
    "        info = light_data(51.509865, -0.118092, '2022-01-31')\n",
    "        print(info)\n",
    "        08:00:13\n",
    "    \"\"\"\n",
    "    import requests\n",
    "    import json\n",
    "    httpreq = 'https://api.sunrise-sunset.org/json?lat=' + str(lat) + '&lng=' + str(lon) + '&date=' + date\n",
    "    x = requests.get(httpreq)\n",
    "    daydata = json.loads(x.text)\n",
    "    return daydata['results']['day_length']\n",
    "\n",
    "info = light_data(51.509865, -0.118092, '2022-01-01')\n",
    "print(info)"
   ]
  },
  {
   "cell_type": "code",
   "execution_count": null,
   "metadata": {},
   "outputs": [],
   "source": [
    "#while x.year < 2023:\n",
    "#    x += datetime.timedelta(days=1)\n",
    "#    print(x)"
   ]
  },
  {
   "cell_type": "code",
   "execution_count": 9,
   "metadata": {},
   "outputs": [
    {
     "name": "stdout",
     "output_type": "stream",
     "text": [
      "results\n",
      "status\n"
     ]
    }
   ],
   "source": [
    "import json\n",
    "daylength = json.loads(x.text)\n",
    "for key in daylength:\n",
    "    print(key)\n",
    "#results\n",
    "#status"
   ]
  },
  {
   "cell_type": "code",
   "execution_count": 11,
   "metadata": {},
   "outputs": [
    {
     "name": "stdout",
     "output_type": "stream",
     "text": [
      "sunrise\n",
      "sunset\n",
      "solar_noon\n",
      "day_length\n",
      "civil_twilight_begin\n",
      "civil_twilight_end\n",
      "nautical_twilight_begin\n",
      "nautical_twilight_end\n",
      "astronomical_twilight_begin\n",
      "astronomical_twilight_end\n"
     ]
    }
   ],
   "source": [
    "for key in daylength['results']:\n",
    "    print(key)\n",
    "#sunrise\n",
    "#sunset\n",
    "#solar_noon\n",
    "#day_length\n",
    "#civil_twilight_begin\n",
    "#civil_twilight_end\n",
    "#nautical_twilight_begin\n",
    "#nautical_twilight_end\n",
    "#astronomical_twilight_begin\n",
    "#astronomical_twilight_end"
   ]
  },
  {
   "cell_type": "code",
   "execution_count": 13,
   "metadata": {},
   "outputs": [
    {
     "name": "stdout",
     "output_type": "stream",
     "text": [
      "10:00:01\n"
     ]
    }
   ],
   "source": [
    "print(daylength['results']['day_length'])"
   ]
  },
  {
   "cell_type": "code",
   "execution_count": null,
   "metadata": {},
   "outputs": [],
   "source": [
    "# london"
   ]
  }
 ],
 "metadata": {
  "kernelspec": {
   "display_name": "Python 3 (ipykernel)",
   "language": "python",
   "name": "python3"
  },
  "language_info": {
   "codemirror_mode": {
    "name": "ipython",
    "version": 3
   },
   "file_extension": ".py",
   "mimetype": "text/x-python",
   "name": "python",
   "nbconvert_exporter": "python",
   "pygments_lexer": "ipython3",
   "version": "3.8.10"
  }
 },
 "nbformat": 4,
 "nbformat_minor": 2
}
